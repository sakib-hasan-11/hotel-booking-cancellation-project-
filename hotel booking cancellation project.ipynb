{
 "cells": [
  {
   "cell_type": "code",
   "execution_count": 2,
   "id": "8095db09",
   "metadata": {},
   "outputs": [],
   "source": [
    "import pandas as pd "
   ]
  },
  {
   "cell_type": "code",
   "execution_count": null,
   "id": "d4ed1c56",
   "metadata": {},
   "outputs": [],
   "source": [
    "df = pd.read_csv('E:\\\\MACHINE LEARNING\\\\datasets\\\\H1.csv')\n",
    "df.info()"
   ]
  },
  {
   "cell_type": "code",
   "execution_count": null,
   "id": "0ac93057",
   "metadata": {},
   "outputs": [],
   "source": [
    "df.head(10)"
   ]
  },
  {
   "cell_type": "code",
   "execution_count": null,
   "id": "ebaface0",
   "metadata": {},
   "outputs": [],
   "source": [
    "df.drop(columns=['ReservationStatus'])\n",
    "df.columns\n"
   ]
  },
  {
   "cell_type": "code",
   "execution_count": null,
   "id": "3f70533f",
   "metadata": {},
   "outputs": [],
   "source": [
    "df.isnull().sum()"
   ]
  },
  {
   "cell_type": "code",
   "execution_count": null,
   "id": "2e4debc4",
   "metadata": {},
   "outputs": [],
   "source": [
    "from sklearn.impute import SimpleImputer\n",
    "imputer = SimpleImputer(strategy='most_frequent')\n",
    "imputed = imputer.fit_transform(df[['Country']])\n",
    "Country = pd.DataFrame(imputed)\n",
    "\n",
    "dataset = df.join(Country,how='left')\n",
    "\n",
    "dataset.isnull().sum()\n"
   ]
  },
  {
   "cell_type": "code",
   "execution_count": null,
   "id": "98c47b7a",
   "metadata": {},
   "outputs": [],
   "source": [
    "import seaborn as sns\n",
    "import matplotlib.pyplot as plt\n",
    "\n",
    "num_cols = df.select_dtypes(include=['int16', 'int32', 'int64', 'float16', 'float32', 'float64'])\n",
    "\n",
    "num_cols.corr()['IsCanceled'].sort_values(ascending=False)\n"
   ]
  },
  {
   "cell_type": "code",
   "execution_count": 12,
   "id": "0a1ae4fd",
   "metadata": {},
   "outputs": [],
   "source": [
    "input_col = dataset[['LeadTime','RequiredCarParkingSpaces','IsRepeatedGuest','PreviousCancellations','BookingChanges','ADR', 'StaysInWeekendNights','StaysInWeekNights','Adults','Children','Babies','PreviousBookingsNotCanceled','DistributionChannel','MarketSegment']]\n",
    "output_col = dataset[['IsCanceled']]"
   ]
  },
  {
   "cell_type": "code",
   "execution_count": null,
   "id": "2932f259",
   "metadata": {},
   "outputs": [],
   "source": [
    "from sklearn.model_selection import GridSearchCV\n",
    "from sklearn.preprocessing import OneHotEncoder\n",
    "from sklearn.preprocessing import StandardScaler\n",
    "\n",
    "\n",
    "categorical_cols = input_col.select_dtypes(include=['object']).columns\n",
    "numeric_cols = input_col.select_dtypes(exclude=['object']).columns\n",
    "\n",
    "scaler = StandardScaler()\n",
    "scaler.fit(input_col[numeric_cols])\n",
    "\n",
    "encoder = OneHotEncoder(handle_unknown='ignore',sparse_output=False,drop='first')\n",
    "encoder.fit(input_col[categorical_cols])\n",
    "\n",
    "x = pd.DataFrame(scaler.transform(input_col[numeric_cols]), columns=numeric_cols)\n",
    "x = pd.concat([x, pd.DataFrame(encoder.transform(input_col[categorical_cols]), columns=encoder.get_feature_names_out(categorical_cols))], axis=1)\n",
    "\n",
    "x.head(10)\n"
   ]
  },
  {
   "cell_type": "code",
   "execution_count": 14,
   "id": "e9323cb8",
   "metadata": {},
   "outputs": [],
   "source": [
    "from sklearn.model_selection import train_test_split\n",
    "from sklearn.linear_model import LogisticRegression\n",
    "from sklearn.model_selection import GridSearchCV\n",
    "from sklearn.metrics import accuracy_score\n",
    "\n",
    "x_train,x_test,y_train,y_test = train_test_split(x,output_col,test_size=0.2,random_state=42)\n",
    "\n",
    "\n",
    "def model_selection(param,model,x_train,y_train):\n",
    "    grid_search = GridSearchCV(model, param, cv=5,n_jobs=-1)\n",
    "    grid_search.fit(x_train, y_train)\n",
    "\n",
    "    y_pred = grid_search.predict(x_test)\n",
    "    accuracy = accuracy_score(y_test, y_pred)\n",
    "    print(\"Best parameters found: \", grid_search.best_params_)\n",
    "    print('train_score: ', grid_search.best_score_ * 100)\n",
    "    print('test_score: ', accuracy * 100)\n",
    "\n",
    "\n"
   ]
  },
  {
   "cell_type": "code",
   "execution_count": null,
   "id": "b1910dde",
   "metadata": {},
   "outputs": [],
   "source": [
    "params = {\n",
    "    'C': [0.01, 0.1, 1, 10, 100],\n",
    "    'penalty': ['l2', 'l1', 'elasticnet'],\n",
    "    'solver': ['saga'],\n",
    "    'max_iter': [100, 200, 300],\n",
    "    'l1_ratio': [0, 0.5, 1] \n",
    "}\n",
    "\n",
    "model_selection(params, LogisticRegression(), x_train, y_train)\n"
   ]
  },
  {
   "cell_type": "markdown",
   "id": "eb3222c4",
   "metadata": {},
   "source": [
    "logistic regression 76.65 (train) , 77.24 (test)\n"
   ]
  },
  {
   "cell_type": "code",
   "execution_count": null,
   "id": "0d48a423",
   "metadata": {},
   "outputs": [],
   "source": [
    "from sklearn.tree import DecisionTreeClassifier\n",
    "params_tree = {\n",
    "    'max_features': ['sqrt','log2',0.3,0.5,0.7,0.9],\n",
    "    'max_depth': [None, 5, 10, 15, 20],\n",
    "    'max_leaf_nodes': [None, 10, 20, 30],\n",
    "    'min_samples_split': [2, 5, 10],\n",
    "    'min_samples_leaf': [1, 2, 4]\n",
    "}\n",
    "\n",
    "model_selection(params_tree, DecisionTreeClassifier(), x_train, y_train)\n"
   ]
  },
  {
   "cell_type": "markdown",
   "id": "dc73c5af",
   "metadata": {},
   "source": [
    "decision tree classifier : 80.27 (train) , 80.25 (test)"
   ]
  },
  {
   "cell_type": "code",
   "execution_count": null,
   "id": "d1102d82",
   "metadata": {},
   "outputs": [],
   "source": [
    "from sklearn.ensemble import RandomForestClassifier\n",
    "perams_forest = {\n",
    "    'n_estimators': [100, 200],\n",
    "    'max_depth': [None, 10, 20],\n",
    "    'min_samples_split': [2, 5, 10]\n",
    "}\n",
    "model_selection(perams_forest, RandomForestClassifier(), x_train, y_train)"
   ]
  },
  {
   "cell_type": "markdown",
   "id": "9b0f8e3f",
   "metadata": {},
   "source": [
    "Random Forest classifier : 83 (train and test both)"
   ]
  },
  {
   "cell_type": "code",
   "execution_count": null,
   "id": "ecd82544",
   "metadata": {},
   "outputs": [],
   "source": []
  }
 ],
 "metadata": {
  "kernelspec": {
   "display_name": "Python 3",
   "language": "python",
   "name": "python3"
  },
  "language_info": {
   "codemirror_mode": {
    "name": "ipython",
    "version": 3
   },
   "file_extension": ".py",
   "mimetype": "text/x-python",
   "name": "python",
   "nbconvert_exporter": "python",
   "pygments_lexer": "ipython3",
   "version": "3.13.2"
  }
 },
 "nbformat": 4,
 "nbformat_minor": 5
}
